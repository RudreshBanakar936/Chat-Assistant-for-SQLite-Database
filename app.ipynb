{
 "cells": [
  {
   "cell_type": "code",
   "execution_count": 2,
   "id": "c3c75fc4",
   "metadata": {},
   "outputs": [
    {
     "name": "stdout",
     "output_type": "stream",
     "text": [
      "Chat Assistant Ready! Type your query:\n",
      "You: Who is the manager of the Marketing department?\n",
      "Bot: Charlie\n",
      "You: exit\n",
      "Goodbye!\n",
      " * Serving Flask app \"__main__\" (lazy loading)\n",
      " * Environment: production\n",
      "\u001b[31m   WARNING: This is a development server. Do not use it in a production deployment.\u001b[0m\n",
      "\u001b[2m   Use a production WSGI server instead.\u001b[0m\n",
      " * Debug mode: on\n"
     ]
    },
    {
     "name": "stderr",
     "output_type": "stream",
     "text": [
      " * Restarting with watchdog (windowsapi)\n"
     ]
    },
    {
     "ename": "SystemExit",
     "evalue": "1",
     "output_type": "error",
     "traceback": [
      "An exception has occurred, use %tb to see the full traceback.\n",
      "\u001b[1;31mSystemExit\u001b[0m\u001b[1;31m:\u001b[0m 1\n"
     ]
    },
    {
     "name": "stderr",
     "output_type": "stream",
     "text": [
      "C:\\Users\\User\\anaconda3\\lib\\site-packages\\IPython\\core\\interactiveshell.py:3465: UserWarning: To exit: use 'exit', 'quit', or Ctrl-D.\n",
      "  warn(\"To exit: use 'exit', 'quit', or Ctrl-D.\", stacklevel=1)\n"
     ]
    }
   ],
   "source": [
    "from flask import Flask, request, jsonify, render_template\n",
    "import sqlite3\n",
    "import re\n",
    "\n",
    "app = Flask(__name__)\n",
    "\n",
    "def create_database():\n",
    "    conn = sqlite3.connect(\"company.db\")\n",
    "    cursor = conn.cursor()\n",
    "    \n",
    "    cursor.execute(\"\"\"\n",
    "        CREATE TABLE IF NOT EXISTS Employees (\n",
    "            ID INTEGER PRIMARY KEY,\n",
    "            Name TEXT,\n",
    "            Department TEXT,\n",
    "            Salary INTEGER,\n",
    "            Hire_Date TEXT\n",
    "        )\n",
    "    \"\"\")\n",
    "    \n",
    "    cursor.execute(\"\"\"\n",
    "        CREATE TABLE IF NOT EXISTS Departments (\n",
    "            ID INTEGER PRIMARY KEY,\n",
    "            Name TEXT,\n",
    "            Manager TEXT\n",
    "        )\n",
    "    \"\"\")\n",
    "    \n",
    "    cursor.execute(\"DELETE FROM Employees\")\n",
    "    cursor.execute(\"DELETE FROM Departments\")\n",
    "    \n",
    "    cursor.executemany(\"\"\"\n",
    "        INSERT INTO Employees (ID, Name, Department, Salary, Hire_Date)\n",
    "        VALUES (?, ?, ?, ?, ?)\n",
    "    \"\"\", [\n",
    "        (1, 'Alice', 'Sales', 50000, '2021-01-15'),\n",
    "        (2, 'Bob', 'Engineering', 70000, '2020-06-10'),\n",
    "        (3, 'Charlie', 'Marketing', 60000, '2022-03-20')\n",
    "    ])\n",
    "    \n",
    "    cursor.executemany(\"\"\"\n",
    "        INSERT INTO Departments (ID, Name, Manager)\n",
    "        VALUES (?, ?, ?)\n",
    "    \"\"\", [\n",
    "        (1, 'Sales', 'Alice'),\n",
    "        (2, 'Engineering', 'Bob'),\n",
    "        (3, 'Marketing', 'Charlie')\n",
    "    ])\n",
    "    \n",
    "    conn.commit()\n",
    "    conn.close()\n",
    "\n",
    "def get_response(query):\n",
    "    conn = sqlite3.connect(\"company.db\")\n",
    "    cursor = conn.cursor()\n",
    "    query = query.lower()\n",
    "    \n",
    "    try:\n",
    "        if match := re.search(r\"show me all employees in the (\\w+) department\", query):\n",
    "            department = match.group(1).capitalize()\n",
    "            cursor.execute(\"SELECT Name FROM Employees WHERE Department = ?\", (department,))\n",
    "            result = cursor.fetchall()\n",
    "            return [row[0] for row in result] or [\"No employees found\"]\n",
    "        \n",
    "        elif match := re.search(r\"who is the manager of the (\\w+) department\", query):\n",
    "            department = match.group(1).capitalize()\n",
    "            cursor.execute(\"SELECT Manager FROM Departments WHERE Name = ?\", (department,))\n",
    "            result = cursor.fetchone()\n",
    "            return result[0] if result else \"Department not found\"\n",
    "        \n",
    "        elif match := re.search(r\"list all employees hired after (\\d{4}-\\d{2}-\\d{2})\", query):\n",
    "            date = match.group(1)\n",
    "            cursor.execute(\"SELECT Name FROM Employees WHERE Hire_Date > ?\", (date,))\n",
    "            result = cursor.fetchall()\n",
    "            return [row[0] for row in result] or [\"No employees found\"]\n",
    "        \n",
    "        elif match := re.search(r\"what is the total salary expense for the (\\w+) department\", query):\n",
    "            department = match.group(1).capitalize()\n",
    "            cursor.execute(\"SELECT SUM(Salary) FROM Employees WHERE Department = ?\", (department,))\n",
    "            result = cursor.fetchone()\n",
    "            return f\"Total salary expense: {result[0]}\" if result[0] else \"Department not found or no salary data\"\n",
    "        \n",
    "        else:\n",
    "            return \"Sorry, I didn't understand the query.\"\n",
    "    \n",
    "    except sqlite3.Error as e:\n",
    "        return f\"Database error: {e}\"\n",
    "    \n",
    "    finally:\n",
    "        conn.close()\n",
    "\n",
    "if __name__ == \"__main__\":\n",
    "    create_database()\n",
    "    print(\"Chat Assistant Ready! Type your query:\")\n",
    "    while True:\n",
    "        user_query = input(\"You: \")\n",
    "        if user_query.lower() in [\"exit\", \"quit\"]:\n",
    "            print(\"Goodbye!\")\n",
    "            break\n",
    "        response = get_response(user_query)\n",
    "        print(\"Bot:\", response)\n",
    "if __name__ == \"__main__\":\n",
    "    create_database()\n",
    "    app.run(debug=True)\n",
    "\n"
   ]
  },
  {
   "cell_type": "code",
   "execution_count": null,
   "id": "a94cee6c",
   "metadata": {},
   "outputs": [],
   "source": []
  }
 ],
 "metadata": {
  "kernelspec": {
   "display_name": "Python 3 (ipykernel)",
   "language": "python",
   "name": "python3"
  },
  "language_info": {
   "codemirror_mode": {
    "name": "ipython",
    "version": 3
   },
   "file_extension": ".py",
   "mimetype": "text/x-python",
   "name": "python",
   "nbconvert_exporter": "python",
   "pygments_lexer": "ipython3",
   "version": "3.9.13"
  }
 },
 "nbformat": 4,
 "nbformat_minor": 5
}
